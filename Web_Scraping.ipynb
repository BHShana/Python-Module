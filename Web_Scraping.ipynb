{
 "cells": [
  {
   "cell_type": "code",
   "execution_count": 1,
   "metadata": {},
   "outputs": [
    {
     "name": "stdout",
     "output_type": "stream",
     "text": [
      "Scraping page 2\n",
      "Scraping page 3\n",
      "Scraping page 4\n",
      "Scraping page 5\n",
      "Scraping page 6\n",
      "Scraping page 7\n",
      "Scraping page 8\n",
      "Done\n",
      "Data has been successfully saved to the file: c:\\Users\\Zikov\\Documents\\DATA ANALYSIST\\Modul_2\\videa\\Zaver\\apartment_zlin.csv\n"
     ]
    }
   ],
   "source": [
    "### 1️⃣ WEB SCRAPING\n",
    "from bs4 import BeautifulSoup\n",
    "import requests\n",
    "\n",
    "page = 1\n",
    "apartment_zlin = []\n",
    "city = 'Zlin'\n",
    "\n",
    "while True:\n",
    "    data = requests.get(f'https://www.sreality.cz/hledani/pronajem/byty/{city}?strana={page}').text\n",
    "    soup = BeautifulSoup(data, 'html.parser')\n",
    "    \n",
    "    main_div = soup.find('div', class_='MuiStack-root css-6nlv8w')\n",
    "    li = main_div.find_all('li', class_='MuiGrid-root MuiGrid-item css-l1328q')\n",
    "\n",
    "    for index, i in enumerate(li, start=1):\n",
    "        layout = i.find('div', class_='MuiBox-root css-n6y9a7')\n",
    "        if layout:\n",
    "            apartment = layout.find('p').text\n",
    "            address = layout.findAll('p')[1].text\n",
    "            composition = apartment.split()[2:3][0]\n",
    "            category= f\"Pronájem bytu {composition}\"\n",
    "            size_int = apartment.split()[3]\n",
    "            price = layout.find_all('p')[2].text.replace('\\xa0', '').replace('Kč/měsíc', '').replace(' ', '')\n",
    "            url_tags = i.find('a')['href']\n",
    "            full_url = f\"https://www.sreality.cz{url_tags}\"\n",
    "\n",
    "            # Přidání dat do seznamu\n",
    "            apartment_zlin.append({'Category': category,\n",
    "                'Composition': composition,\n",
    "                'Size (m2)': size_int,\n",
    "                'Address': address,\n",
    "                'Price (CZK/month)': price,\n",
    "                'URL': full_url\n",
    "            })\n",
    "\n",
    "\n",
    "\n",
    "    button = soup.find('button', 'MuiButtonBase-root MuiButton-root MuiButton-outlined MuiButton-outlinedInherit MuiButton-sizeMedium MuiButton-outlinedSizeMedium MuiButton-colorInherit MuiButton-root MuiButton-outlined MuiButton-outlinedInherit MuiButton-sizeMedium MuiButton-outlinedSizeMedium MuiButton-colorInherit css-lp5ywq').text\n",
    "\n",
    "    if button != 'Další stránka':\n",
    "        print('Done')\n",
    "        break\n",
    "\n",
    "    page += 1\n",
    "\n",
    "    print(f'Scraping page {page}')\n",
    "\n",
    "import pandas as pd\n",
    "df=pd.DataFrame(apartment_zlin)\n",
    "df.to_csv('apartment_zlin.csv', index=False)\n",
    "import os\n",
    "file_path = os.path.abspath('apartment_zlin.csv')\n",
    "print(f\"Data has been successfully saved to the file: {file_path}\")"
   ]
  },
  {
   "cell_type": "code",
   "execution_count": 2,
   "metadata": {},
   "outputs": [
    {
     "data": {
      "text/html": [
       "<div>\n",
       "<style scoped>\n",
       "    .dataframe tbody tr th:only-of-type {\n",
       "        vertical-align: middle;\n",
       "    }\n",
       "\n",
       "    .dataframe tbody tr th {\n",
       "        vertical-align: top;\n",
       "    }\n",
       "\n",
       "    .dataframe thead th {\n",
       "        text-align: right;\n",
       "    }\n",
       "</style>\n",
       "<table border=\"1\" class=\"dataframe\">\n",
       "  <thead>\n",
       "    <tr style=\"text-align: right;\">\n",
       "      <th></th>\n",
       "      <th>Category</th>\n",
       "      <th>Composition</th>\n",
       "      <th>Size (m2)</th>\n",
       "      <th>Address</th>\n",
       "      <th>Price (CZK/month)</th>\n",
       "      <th>URL</th>\n",
       "    </tr>\n",
       "  </thead>\n",
       "  <tbody>\n",
       "    <tr>\n",
       "      <th>0</th>\n",
       "      <td>Pronájem bytu 2+kk</td>\n",
       "      <td>2+kk</td>\n",
       "      <td>49</td>\n",
       "      <td>Zelinova, Zlín</td>\n",
       "      <td>14900</td>\n",
       "      <td>https://www.sreality.cz/detail/pronajem/byt/2+...</td>\n",
       "    </tr>\n",
       "    <tr>\n",
       "      <th>1</th>\n",
       "      <td>Pronájem bytu 1+kk</td>\n",
       "      <td>1+kk</td>\n",
       "      <td>30</td>\n",
       "      <td>Kúty, Zlín</td>\n",
       "      <td>10000</td>\n",
       "      <td>https://www.sreality.cz/detail/pronajem/byt/1+...</td>\n",
       "    </tr>\n",
       "    <tr>\n",
       "      <th>2</th>\n",
       "      <td>Pronájem bytu 3+1</td>\n",
       "      <td>3+1</td>\n",
       "      <td>90</td>\n",
       "      <td>Hluboká, Zlín</td>\n",
       "      <td>18500</td>\n",
       "      <td>https://www.sreality.cz/detail/pronajem/byt/3+...</td>\n",
       "    </tr>\n",
       "    <tr>\n",
       "      <th>3</th>\n",
       "      <td>Pronájem bytu 1+1</td>\n",
       "      <td>1+1</td>\n",
       "      <td>25</td>\n",
       "      <td>Vysoká, Zlín</td>\n",
       "      <td>9000</td>\n",
       "      <td>https://www.sreality.cz/detail/pronajem/byt/1+...</td>\n",
       "    </tr>\n",
       "    <tr>\n",
       "      <th>4</th>\n",
       "      <td>Pronájem bytu 2+1</td>\n",
       "      <td>2+1</td>\n",
       "      <td>62</td>\n",
       "      <td>Erbenova, Otrokovice</td>\n",
       "      <td>13000</td>\n",
       "      <td>https://www.sreality.cz/detail/pronajem/byt/2+...</td>\n",
       "    </tr>\n",
       "  </tbody>\n",
       "</table>\n",
       "</div>"
      ],
      "text/plain": [
       "             Category Composition Size (m2)               Address  \\\n",
       "0  Pronájem bytu 2+kk        2+kk        49        Zelinova, Zlín   \n",
       "1  Pronájem bytu 1+kk        1+kk        30            Kúty, Zlín   \n",
       "2   Pronájem bytu 3+1         3+1        90         Hluboká, Zlín   \n",
       "3   Pronájem bytu 1+1         1+1        25          Vysoká, Zlín   \n",
       "4   Pronájem bytu 2+1         2+1        62  Erbenova, Otrokovice   \n",
       "\n",
       "  Price (CZK/month)                                                URL  \n",
       "0             14900  https://www.sreality.cz/detail/pronajem/byt/2+...  \n",
       "1             10000  https://www.sreality.cz/detail/pronajem/byt/1+...  \n",
       "2             18500  https://www.sreality.cz/detail/pronajem/byt/3+...  \n",
       "3              9000  https://www.sreality.cz/detail/pronajem/byt/1+...  \n",
       "4             13000  https://www.sreality.cz/detail/pronajem/byt/2+...  "
      ]
     },
     "execution_count": 2,
     "metadata": {},
     "output_type": "execute_result"
    }
   ],
   "source": [
    "df.head()"
   ]
  },
  {
   "cell_type": "code",
   "execution_count": 4,
   "metadata": {},
   "outputs": [
    {
     "name": "stdout",
     "output_type": "stream",
     "text": [
      "File has 156 rows and 6 columns\n"
     ]
    }
   ],
   "source": [
    "count_of_rows = df.shape[0]\n",
    "count_of_colums = df.shape[1]\n",
    "print(f\"File has {count_of_rows} rows and {count_of_colums} columns\")"
   ]
  },
  {
   "cell_type": "code",
   "execution_count": null,
   "metadata": {},
   "outputs": [],
   "source": []
  }
 ],
 "metadata": {
  "kernelspec": {
   "display_name": "Python 3",
   "language": "python",
   "name": "python3"
  },
  "language_info": {
   "codemirror_mode": {
    "name": "ipython",
    "version": 3
   },
   "file_extension": ".py",
   "mimetype": "text/x-python",
   "name": "python",
   "nbconvert_exporter": "python",
   "pygments_lexer": "ipython3",
   "version": "3.13.0"
  }
 },
 "nbformat": 4,
 "nbformat_minor": 2
}
